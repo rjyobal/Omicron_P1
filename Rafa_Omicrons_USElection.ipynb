{
 "cells": [
  {
   "cell_type": "markdown",
   "metadata": {},
   "source": [
    "# Omicrons - Project One - US Election\n",
    "\n",
    "---\n",
    "## Historical Analysis"
   ]
  },
  {
   "cell_type": "code",
   "execution_count": 1,
   "metadata": {},
   "outputs": [],
   "source": [
    "#Import Libraries\n",
    "import matplotlib.pyplot as plt\n",
    "import pandas as pd\n",
    "import numpy as np\n",
    "import requests\n",
    "import gmaps\n",
    "import gmaps.geojson_geometries\n",
    "#import os\n",
    "#import time\n",
    "from scipy.stats import linregress\n",
    "import datetime\n",
    "#Import API Keys\n",
    "from config import gkey\n"
   ]
  },
  {
   "cell_type": "code",
   "execution_count": 2,
   "metadata": {},
   "outputs": [],
   "source": [
    "h_election_df = pd.read_csv('Resources/1976-2016-president.csv')"
   ]
  },
  {
   "cell_type": "code",
   "execution_count": 3,
   "metadata": {},
   "outputs": [
    {
     "data": {
      "text/plain": [
       "(3740, 14)"
      ]
     },
     "execution_count": 3,
     "metadata": {},
     "output_type": "execute_result"
    }
   ],
   "source": [
    "h_election_df.shape"
   ]
  },
  {
   "cell_type": "code",
   "execution_count": 4,
   "metadata": {},
   "outputs": [
    {
     "data": {
      "text/plain": [
       "year                int64\n",
       "state              object\n",
       "state_po           object\n",
       "state_fips          int64\n",
       "state_cen           int64\n",
       "state_ic            int64\n",
       "office             object\n",
       "candidate          object\n",
       "party              object\n",
       "writein              bool\n",
       "candidatevotes      int64\n",
       "totalvotes          int64\n",
       "version             int64\n",
       "notes             float64\n",
       "dtype: object"
      ]
     },
     "execution_count": 4,
     "metadata": {},
     "output_type": "execute_result"
    }
   ],
   "source": [
    "h_election_df.dtypes"
   ]
  },
  {
   "cell_type": "code",
   "execution_count": 5,
   "metadata": {
    "scrolled": false
   },
   "outputs": [
    {
     "data": {
      "text/html": [
       "<div>\n",
       "<style scoped>\n",
       "    .dataframe tbody tr th:only-of-type {\n",
       "        vertical-align: middle;\n",
       "    }\n",
       "\n",
       "    .dataframe tbody tr th {\n",
       "        vertical-align: top;\n",
       "    }\n",
       "\n",
       "    .dataframe thead th {\n",
       "        text-align: right;\n",
       "    }\n",
       "</style>\n",
       "<table border=\"1\" class=\"dataframe\">\n",
       "  <thead>\n",
       "    <tr style=\"text-align: right;\">\n",
       "      <th></th>\n",
       "      <th>year</th>\n",
       "      <th>state</th>\n",
       "      <th>state_po</th>\n",
       "      <th>state_fips</th>\n",
       "      <th>state_cen</th>\n",
       "      <th>state_ic</th>\n",
       "      <th>office</th>\n",
       "      <th>candidate</th>\n",
       "      <th>party</th>\n",
       "      <th>writein</th>\n",
       "      <th>candidatevotes</th>\n",
       "      <th>totalvotes</th>\n",
       "      <th>version</th>\n",
       "      <th>notes</th>\n",
       "    </tr>\n",
       "  </thead>\n",
       "  <tbody>\n",
       "    <tr>\n",
       "      <th>0</th>\n",
       "      <td>1976</td>\n",
       "      <td>Alabama</td>\n",
       "      <td>AL</td>\n",
       "      <td>1</td>\n",
       "      <td>63</td>\n",
       "      <td>41</td>\n",
       "      <td>US President</td>\n",
       "      <td>Carter, Jimmy</td>\n",
       "      <td>democrat</td>\n",
       "      <td>False</td>\n",
       "      <td>659170</td>\n",
       "      <td>1182850</td>\n",
       "      <td>20171015</td>\n",
       "      <td>NaN</td>\n",
       "    </tr>\n",
       "    <tr>\n",
       "      <th>1</th>\n",
       "      <td>1976</td>\n",
       "      <td>Alabama</td>\n",
       "      <td>AL</td>\n",
       "      <td>1</td>\n",
       "      <td>63</td>\n",
       "      <td>41</td>\n",
       "      <td>US President</td>\n",
       "      <td>Ford, Gerald</td>\n",
       "      <td>republican</td>\n",
       "      <td>False</td>\n",
       "      <td>504070</td>\n",
       "      <td>1182850</td>\n",
       "      <td>20171015</td>\n",
       "      <td>NaN</td>\n",
       "    </tr>\n",
       "    <tr>\n",
       "      <th>2</th>\n",
       "      <td>1976</td>\n",
       "      <td>Alabama</td>\n",
       "      <td>AL</td>\n",
       "      <td>1</td>\n",
       "      <td>63</td>\n",
       "      <td>41</td>\n",
       "      <td>US President</td>\n",
       "      <td>Maddox, Lester</td>\n",
       "      <td>american independent party</td>\n",
       "      <td>False</td>\n",
       "      <td>9198</td>\n",
       "      <td>1182850</td>\n",
       "      <td>20171015</td>\n",
       "      <td>NaN</td>\n",
       "    </tr>\n",
       "    <tr>\n",
       "      <th>3</th>\n",
       "      <td>1976</td>\n",
       "      <td>Alabama</td>\n",
       "      <td>AL</td>\n",
       "      <td>1</td>\n",
       "      <td>63</td>\n",
       "      <td>41</td>\n",
       "      <td>US President</td>\n",
       "      <td>Bubar, Benjamin \"\"Ben\"\"</td>\n",
       "      <td>prohibition</td>\n",
       "      <td>False</td>\n",
       "      <td>6669</td>\n",
       "      <td>1182850</td>\n",
       "      <td>20171015</td>\n",
       "      <td>NaN</td>\n",
       "    </tr>\n",
       "    <tr>\n",
       "      <th>4</th>\n",
       "      <td>1976</td>\n",
       "      <td>Alabama</td>\n",
       "      <td>AL</td>\n",
       "      <td>1</td>\n",
       "      <td>63</td>\n",
       "      <td>41</td>\n",
       "      <td>US President</td>\n",
       "      <td>Hall, Gus</td>\n",
       "      <td>communist party use</td>\n",
       "      <td>False</td>\n",
       "      <td>1954</td>\n",
       "      <td>1182850</td>\n",
       "      <td>20171015</td>\n",
       "      <td>NaN</td>\n",
       "    </tr>\n",
       "  </tbody>\n",
       "</table>\n",
       "</div>"
      ],
      "text/plain": [
       "   year    state state_po  state_fips  state_cen  state_ic        office  \\\n",
       "0  1976  Alabama       AL           1         63        41  US President   \n",
       "1  1976  Alabama       AL           1         63        41  US President   \n",
       "2  1976  Alabama       AL           1         63        41  US President   \n",
       "3  1976  Alabama       AL           1         63        41  US President   \n",
       "4  1976  Alabama       AL           1         63        41  US President   \n",
       "\n",
       "                 candidate                       party  writein  \\\n",
       "0            Carter, Jimmy                    democrat    False   \n",
       "1             Ford, Gerald                  republican    False   \n",
       "2           Maddox, Lester  american independent party    False   \n",
       "3  Bubar, Benjamin \"\"Ben\"\"                 prohibition    False   \n",
       "4                Hall, Gus         communist party use    False   \n",
       "\n",
       "   candidatevotes  totalvotes   version  notes  \n",
       "0          659170     1182850  20171015    NaN  \n",
       "1          504070     1182850  20171015    NaN  \n",
       "2            9198     1182850  20171015    NaN  \n",
       "3            6669     1182850  20171015    NaN  \n",
       "4            1954     1182850  20171015    NaN  "
      ]
     },
     "execution_count": 5,
     "metadata": {},
     "output_type": "execute_result"
    }
   ],
   "source": [
    "h_election_df.head()"
   ]
  },
  {
   "cell_type": "code",
   "execution_count": 6,
   "metadata": {},
   "outputs": [
    {
     "data": {
      "text/html": [
       "<div>\n",
       "<style scoped>\n",
       "    .dataframe tbody tr th:only-of-type {\n",
       "        vertical-align: middle;\n",
       "    }\n",
       "\n",
       "    .dataframe tbody tr th {\n",
       "        vertical-align: top;\n",
       "    }\n",
       "\n",
       "    .dataframe thead th {\n",
       "        text-align: right;\n",
       "    }\n",
       "</style>\n",
       "<table border=\"1\" class=\"dataframe\">\n",
       "  <thead>\n",
       "    <tr style=\"text-align: right;\">\n",
       "      <th></th>\n",
       "      <th>Year</th>\n",
       "      <th>State</th>\n",
       "      <th>State Cd</th>\n",
       "      <th>Candidate</th>\n",
       "      <th>Party</th>\n",
       "      <th>Votes</th>\n",
       "    </tr>\n",
       "  </thead>\n",
       "  <tbody>\n",
       "    <tr>\n",
       "      <th>0</th>\n",
       "      <td>1976</td>\n",
       "      <td>Alabama</td>\n",
       "      <td>AL</td>\n",
       "      <td>Carter, Jimmy</td>\n",
       "      <td>Democrat</td>\n",
       "      <td>659170</td>\n",
       "    </tr>\n",
       "    <tr>\n",
       "      <th>1</th>\n",
       "      <td>1976</td>\n",
       "      <td>Alabama</td>\n",
       "      <td>AL</td>\n",
       "      <td>Ford, Gerald</td>\n",
       "      <td>Republican</td>\n",
       "      <td>504070</td>\n",
       "    </tr>\n",
       "    <tr>\n",
       "      <th>2</th>\n",
       "      <td>1976</td>\n",
       "      <td>Alabama</td>\n",
       "      <td>AL</td>\n",
       "      <td>Maddox, Lester</td>\n",
       "      <td>Other</td>\n",
       "      <td>9198</td>\n",
       "    </tr>\n",
       "    <tr>\n",
       "      <th>3</th>\n",
       "      <td>1976</td>\n",
       "      <td>Alabama</td>\n",
       "      <td>AL</td>\n",
       "      <td>Bubar, Benjamin \"\"Ben\"\"</td>\n",
       "      <td>Other</td>\n",
       "      <td>6669</td>\n",
       "    </tr>\n",
       "    <tr>\n",
       "      <th>4</th>\n",
       "      <td>1976</td>\n",
       "      <td>Alabama</td>\n",
       "      <td>AL</td>\n",
       "      <td>Hall, Gus</td>\n",
       "      <td>Other</td>\n",
       "      <td>1954</td>\n",
       "    </tr>\n",
       "  </tbody>\n",
       "</table>\n",
       "</div>"
      ],
      "text/plain": [
       "   Year    State State Cd                Candidate       Party   Votes\n",
       "0  1976  Alabama       AL            Carter, Jimmy    Democrat  659170\n",
       "1  1976  Alabama       AL             Ford, Gerald  Republican  504070\n",
       "2  1976  Alabama       AL           Maddox, Lester       Other    9198\n",
       "3  1976  Alabama       AL  Bubar, Benjamin \"\"Ben\"\"       Other    6669\n",
       "4  1976  Alabama       AL                Hall, Gus       Other    1954"
      ]
     },
     "execution_count": 6,
     "metadata": {},
     "output_type": "execute_result"
    }
   ],
   "source": [
    "#Data Frame Cleansing\n",
    "c_election_df=h_election_df[['year','state','state_po','candidate','party','candidatevotes']]\n",
    "c_election_df=c_election_df.rename(columns={'year':'Year','state':'State','state_po':'State Cd','candidate':'Candidate','party':'Party','candidatevotes':'Votes'})\n",
    "c_election_df['Party'] = c_election_df['Party'].replace({'democrat': 'Democrat', 'republican': 'Republican'})\n",
    "c_election_df.loc[(c_election_df['Party']!='Democrat') & (c_election_df['Party']!='Republican'), 'Party']='Other'\n",
    "c_election_df.head()"
   ]
  },
  {
   "cell_type": "code",
   "execution_count": 7,
   "metadata": {},
   "outputs": [
    {
     "data": {
      "image/png": "[encoded data removed]",
      "text/plain": [
       "<Figure size 1152x504 with 1 Axes>"
      ]
     },
     "metadata": {
      "needs_background": "light"
     },
     "output_type": "display_data"
    }
   ],
   "source": [
    "#Chart Historical US Elections\n",
    "hist_chart=c_election_df.groupby(['Year','Party'])['Votes'].sum()\n",
    "hist_chart=hist_chart.reset_index()\n",
    "labels=hist_chart['Year'].unique()\n",
    "#Series to plot\n",
    "democrat=round(hist_chart.loc[hist_chart['Party']=='Democrat']['Votes']/1000000,1)\n",
    "republican=round(hist_chart.loc[hist_chart['Party']=='Republican']['Votes']/1000000,1)\n",
    "other=round(hist_chart.loc[hist_chart['Party']=='Other']['Votes']/1000000,1)\n",
    "#Setup plot\n",
    "x = np.arange(len(labels))\n",
    "width = 0.30\n",
    "fig, ax = plt.subplots(figsize=(16,7))\n",
    "#Plot each series\n",
    "rects1 = ax.bar(x - (width/2)*2, democrat, width, label='Democrat', color='blue')\n",
    "rects2 = ax.bar(x, republican, width, label='Republican', color='red')\n",
    "rects3 = ax.bar(x + width, other, width, label='Other', color='grey')\n",
    "#SetLabels\n",
    "ax.set_ylabel('Votes in Millions')\n",
    "ax.set_xlabel('Year')\n",
    "ax.set_title('Historical US President Election Votes')\n",
    "ax.set_xticks(x)\n",
    "ax.set_xticklabels(labels)\n",
    "ax.legend()\n",
    "#Function to put labels on top or each bar\n",
    "def toplabels(rects):\n",
    "    for rect in rects:\n",
    "        height = rect.get_height()\n",
    "        ax.annotate('{}'.format(height), xy=(rect.get_x() + rect.get_width() / 2, height), xytext=(0, 3), textcoords=\"offset points\", ha='center', va='bottom')\n",
    "#Set labels and show plot\n",
    "toplabels(rects1)\n",
    "toplabels(rects2)\n",
    "toplabels(rects3)\n",
    "plt.show()\n"
   ]
  },
  {
   "cell_type": "code",
   "execution_count": 8,
   "metadata": {},
   "outputs": [
    {
     "data": {
      "application/vnd.jupyter.widget-view+json": {
       "model_id": "0a28874ad3054901a4dfbd50d79918cd",
       "version_major": 2,
       "version_minor": 0
      },
      "text/plain": [
       "Figure(layout=FigureLayout(height='420px'))"
      ]
     },
     "metadata": {},
     "output_type": "display_data"
    }
   ],
   "source": [
    "#Create US Map\n",
    "#Configure API key\n",
    "gmaps.configure(api_key=gkey)\n",
    "#Get US States Geometry\n",
    "us_states_geojson = gmaps.geojson_geometries.load_geometry('us-states')\n",
    "#Get Colors based on State Party preference\n",
    "state_map_df=c_election_df.groupby(['State','Party'])['Votes'].mean()\n",
    "state_map_df=state_map_df.reset_index()\n",
    "state_map_df=state_map_df.sort_values(['State','Votes'])\n",
    "state_map_df = state_map_df.drop_duplicates(['State'], keep= 'last')\n",
    "state_map_df['Party']=state_map_df['Party'].replace({'Republican': 'red', 'Democrat': 'blue'})\n",
    "geoj_states=[]\n",
    "for x in range(0,52):\n",
    "    geoj_states.append(us_states_geojson['features'][x]['properties']['NAME'])\n",
    "geoj_df = pd.DataFrame(geoj_states)\n",
    "geoj_df=geoj_df.rename(columns={0: 'State'})\n",
    "merge_df = pd.merge(geoj_df, state_map_df, on=\"State\", how=\"left\")\n",
    "merge_df['Party'] = merge_df['Party'].fillna('gray')\n",
    "colors=merge_df['Party'].tolist()\n",
    "#Configure Map and Layer\n",
    "fig = gmaps.figure(zoom_level=4 , center=(39,-98))\n",
    "gini_layer = gmaps.geojson_layer(us_states_geojson, fill_color=colors, stroke_color=colors, fill_opacity=0.5)\n",
    "fig.add_layer(gini_layer)\n",
    "fig"
   ]
  },
  {
   "cell_type": "code",
   "execution_count": null,
   "metadata": {},
   "outputs": [],
   "source": []
  },
  {
   "cell_type": "markdown",
   "metadata": {},
   "source": [
    "#### References:\n",
    "1. MIT Election Data and Science Lab, 2017, \"1976-2016-president.tab\", U.S. President 1976–2016, https://doi.org/10.7910/DVN/42MVDX/MFU99O, Harvard Dataverse, V5, UNF:6:Mw0hOUHAijKPTVRAe5jJvg==doi/10.7910/DVN/42MVDX/MFU99O"
   ]
  }
 ],
 "metadata": {
  "kernelspec": {
   "display_name": "Python 3",
   "language": "python",
   "name": "python3"
  },
  "language_info": {
   "codemirror_mode": {
    "name": "ipython",
    "version": 3
   },
   "file_extension": ".py",
   "mimetype": "text/x-python",
   "name": "python",
   "nbconvert_exporter": "python",
   "pygments_lexer": "ipython3",
   "version": "3.8.3"
  }
 },
 "nbformat": 4,
 "nbformat_minor": 4
}
