{
 "cells": [
  {
   "cell_type": "code",
   "execution_count": 41,
   "metadata": {},
   "outputs": [],
   "source": [
    "import pandas as pd\n",
    "import numpy as np\n",
    "import csv\n",
    "import os\n",
    "import matplotlib.pyplot as plt"
   ]
  },
  {
   "cell_type": "markdown",
   "metadata": {},
   "source": [
    "## Calculations for total voting population"
   ]
  },
  {
   "cell_type": "code",
   "execution_count": 2,
   "metadata": {},
   "outputs": [],
   "source": [
    "file_import = os.path.join(\"Resources\",\"Total_vote.csv\")"
   ]
  },
  {
   "cell_type": "code",
   "execution_count": 3,
   "metadata": {},
   "outputs": [],
   "source": [
    "with open(file_import, 'r', encoding='utf-8-sig') as csv_file:\n",
    "    csv_reader = csv.reader(csv_file, delimiter=\",\")\n",
    "    csv_header = next(csv_reader)\n",
    "    Total_vote = pd.DataFrame(csv_reader, columns = csv_header)"
   ]
  },
  {
   "cell_type": "code",
   "execution_count": 4,
   "metadata": {},
   "outputs": [
    {
     "data": {
      "text/html": [
       "<div>\n",
       "<style scoped>\n",
       "    .dataframe tbody tr th:only-of-type {\n",
       "        vertical-align: middle;\n",
       "    }\n",
       "\n",
       "    .dataframe tbody tr th {\n",
       "        vertical-align: top;\n",
       "    }\n",
       "\n",
       "    .dataframe thead th {\n",
       "        text-align: right;\n",
       "    }\n",
       "</style>\n",
       "<table border=\"1\" class=\"dataframe\">\n",
       "  <thead>\n",
       "    <tr style=\"text-align: right;\">\n",
       "      <th></th>\n",
       "      <th></th>\n",
       "      <th>2016</th>\n",
       "      <th>2012</th>\n",
       "      <th>2008</th>\n",
       "      <th>2004</th>\n",
       "      <th>2000</th>\n",
       "      <th>1996</th>\n",
       "      <th>1992</th>\n",
       "      <th>1988</th>\n",
       "      <th>1984</th>\n",
       "      <th>1980</th>\n",
       "      <th>1976</th>\n",
       "    </tr>\n",
       "  </thead>\n",
       "  <tbody>\n",
       "    <tr>\n",
       "      <th>0</th>\n",
       "      <td>Total voting age</td>\n",
       "      <td>245502</td>\n",
       "      <td>235248</td>\n",
       "      <td>225499</td>\n",
       "      <td>215694</td>\n",
       "      <td>202609</td>\n",
       "      <td>193651</td>\n",
       "      <td>185684</td>\n",
       "      <td>178098</td>\n",
       "      <td>169963</td>\n",
       "      <td>157085</td>\n",
       "      <td>146548</td>\n",
       "    </tr>\n",
       "    <tr>\n",
       "      <th>1</th>\n",
       "      <td>Total voted</td>\n",
       "      <td>137537</td>\n",
       "      <td>132948</td>\n",
       "      <td>131144</td>\n",
       "      <td>125736</td>\n",
       "      <td>110826</td>\n",
       "      <td>105017</td>\n",
       "      <td>113866</td>\n",
       "      <td>102224</td>\n",
       "      <td>101878</td>\n",
       "      <td>93066</td>\n",
       "      <td>86698</td>\n",
       "    </tr>\n",
       "    <tr>\n",
       "      <th>2</th>\n",
       "      <td>Percent voted</td>\n",
       "      <td>56</td>\n",
       "      <td>56.5</td>\n",
       "      <td>58.2</td>\n",
       "      <td>58.3</td>\n",
       "      <td>54.7</td>\n",
       "      <td>54.2</td>\n",
       "      <td>61.3</td>\n",
       "      <td>57.4</td>\n",
       "      <td>59.9</td>\n",
       "      <td>59.2</td>\n",
       "      <td>59.2</td>\n",
       "    </tr>\n",
       "  </tbody>\n",
       "</table>\n",
       "</div>"
      ],
      "text/plain": [
       "                       2016    2012    2008    2004    2000    1996    1992  \\\n",
       "0  Total voting age  245502  235248  225499  215694  202609  193651  185684   \n",
       "1       Total voted  137537  132948  131144  125736  110826  105017  113866   \n",
       "2     Percent voted      56    56.5    58.2    58.3    54.7    54.2    61.3   \n",
       "\n",
       "     1988    1984    1980    1976  \n",
       "0  178098  169963  157085  146548  \n",
       "1  102224  101878   93066   86698  \n",
       "2    57.4    59.9    59.2    59.2  "
      ]
     },
     "execution_count": 4,
     "metadata": {},
     "output_type": "execute_result"
    }
   ],
   "source": [
    "Total_vote"
   ]
  },
  {
   "cell_type": "code",
   "execution_count": 5,
   "metadata": {},
   "outputs": [],
   "source": [
    "id_vars=['2016','2012', '2008', '2004', '2000', '1996', '1992', '1988', '1984', '1980', '1976']"
   ]
  },
  {
   "cell_type": "code",
   "execution_count": 6,
   "metadata": {},
   "outputs": [],
   "source": [
    "cols = ['Total voting age', 'Total voted', 'Percent voted']"
   ]
  },
  {
   "cell_type": "code",
   "execution_count": 7,
   "metadata": {},
   "outputs": [],
   "source": [
    "Total_vote = Total_vote.transpose(copy = True)"
   ]
  },
  {
   "cell_type": "code",
   "execution_count": 8,
   "metadata": {},
   "outputs": [],
   "source": [
    "Total_vote.columns = Total_vote.iloc[0]\n",
    "Total_vote = Total_vote.drop(Total_vote.index[0])"
   ]
  },
  {
   "cell_type": "code",
   "execution_count": 9,
   "metadata": {},
   "outputs": [
    {
     "data": {
      "text/html": [
       "<div>\n",
       "<style scoped>\n",
       "    .dataframe tbody tr th:only-of-type {\n",
       "        vertical-align: middle;\n",
       "    }\n",
       "\n",
       "    .dataframe tbody tr th {\n",
       "        vertical-align: top;\n",
       "    }\n",
       "\n",
       "    .dataframe thead th {\n",
       "        text-align: right;\n",
       "    }\n",
       "</style>\n",
       "<table border=\"1\" class=\"dataframe\">\n",
       "  <thead>\n",
       "    <tr style=\"text-align: right;\">\n",
       "      <th></th>\n",
       "      <th>Total voting age</th>\n",
       "      <th>Total voted</th>\n",
       "      <th>Percent voted</th>\n",
       "    </tr>\n",
       "  </thead>\n",
       "  <tbody>\n",
       "    <tr>\n",
       "      <th>2016</th>\n",
       "      <td>245502</td>\n",
       "      <td>137537</td>\n",
       "      <td>56</td>\n",
       "    </tr>\n",
       "    <tr>\n",
       "      <th>2012</th>\n",
       "      <td>235248</td>\n",
       "      <td>132948</td>\n",
       "      <td>56.5</td>\n",
       "    </tr>\n",
       "    <tr>\n",
       "      <th>2008</th>\n",
       "      <td>225499</td>\n",
       "      <td>131144</td>\n",
       "      <td>58.2</td>\n",
       "    </tr>\n",
       "    <tr>\n",
       "      <th>2004</th>\n",
       "      <td>215694</td>\n",
       "      <td>125736</td>\n",
       "      <td>58.3</td>\n",
       "    </tr>\n",
       "    <tr>\n",
       "      <th>2000</th>\n",
       "      <td>202609</td>\n",
       "      <td>110826</td>\n",
       "      <td>54.7</td>\n",
       "    </tr>\n",
       "    <tr>\n",
       "      <th>1996</th>\n",
       "      <td>193651</td>\n",
       "      <td>105017</td>\n",
       "      <td>54.2</td>\n",
       "    </tr>\n",
       "    <tr>\n",
       "      <th>1992</th>\n",
       "      <td>185684</td>\n",
       "      <td>113866</td>\n",
       "      <td>61.3</td>\n",
       "    </tr>\n",
       "    <tr>\n",
       "      <th>1988</th>\n",
       "      <td>178098</td>\n",
       "      <td>102224</td>\n",
       "      <td>57.4</td>\n",
       "    </tr>\n",
       "    <tr>\n",
       "      <th>1984</th>\n",
       "      <td>169963</td>\n",
       "      <td>101878</td>\n",
       "      <td>59.9</td>\n",
       "    </tr>\n",
       "    <tr>\n",
       "      <th>1980</th>\n",
       "      <td>157085</td>\n",
       "      <td>93066</td>\n",
       "      <td>59.2</td>\n",
       "    </tr>\n",
       "    <tr>\n",
       "      <th>1976</th>\n",
       "      <td>146548</td>\n",
       "      <td>86698</td>\n",
       "      <td>59.2</td>\n",
       "    </tr>\n",
       "  </tbody>\n",
       "</table>\n",
       "</div>"
      ],
      "text/plain": [
       "     Total voting age Total voted Percent voted\n",
       "2016           245502      137537            56\n",
       "2012           235248      132948          56.5\n",
       "2008           225499      131144          58.2\n",
       "2004           215694      125736          58.3\n",
       "2000           202609      110826          54.7\n",
       "1996           193651      105017          54.2\n",
       "1992           185684      113866          61.3\n",
       "1988           178098      102224          57.4\n",
       "1984           169963      101878          59.9\n",
       "1980           157085       93066          59.2\n",
       "1976           146548       86698          59.2"
      ]
     },
     "execution_count": 9,
     "metadata": {},
     "output_type": "execute_result"
    }
   ],
   "source": [
    "Total_vote"
   ]
  },
  {
   "cell_type": "code",
   "execution_count": 10,
   "metadata": {},
   "outputs": [
    {
     "data": {
      "text/plain": [
       "\n",
       "Total voting age    object\n",
       "Total voted         object\n",
       "Percent voted       object\n",
       "dtype: object"
      ]
     },
     "execution_count": 10,
     "metadata": {},
     "output_type": "execute_result"
    }
   ],
   "source": [
    "Total_vote.dtypes"
   ]
  },
  {
   "cell_type": "code",
   "execution_count": 11,
   "metadata": {},
   "outputs": [
    {
     "data": {
      "text/plain": [
       "\n",
       "Total voting age      int64\n",
       "Total voted           int64\n",
       "Percent voted       float64\n",
       "dtype: object"
      ]
     },
     "execution_count": 11,
     "metadata": {},
     "output_type": "execute_result"
    }
   ],
   "source": [
    "Total_vote = Total_vote.apply(pd.to_numeric)\n",
    "Total_vote.dtypes"
   ]
  },
  {
   "cell_type": "code",
   "execution_count": 12,
   "metadata": {},
   "outputs": [],
   "source": [
    "def cagr(start_value, end_value, num_periods):\n",
    "    return (end_value / start_value) ** (1 / (num_periods - 1)) - 1"
   ]
  },
  {
   "cell_type": "code",
   "execution_count": 13,
   "metadata": {},
   "outputs": [],
   "source": [
    "iterations = [0,1,2]"
   ]
  },
  {
   "cell_type": "code",
   "execution_count": 14,
   "metadata": {},
   "outputs": [
    {
     "name": "stdout",
     "output_type": "stream",
     "text": [
      "Predicted growth in 2020 for Total voting age is of -0.05028677406890514\n",
      "Predicted growth in 2020 for Total voted is of -0.04509766966757811\n",
      "Predicted growth in 2020 for Percent voted is of 0.005572453797072052\n"
     ]
    }
   ],
   "source": [
    "for i in iterations:\n",
    "    start_value = float(Total_vote.iloc[0, i])\n",
    "    end_value = float(Total_vote.iloc[-1, i])\n",
    "    num_periods = len(Total_vote)\n",
    "    print(f'Predicted growth in 2020 for {Total_vote.columns[i]} is of {cagr(start_value, end_value, num_periods)}')"
   ]
  },
  {
   "cell_type": "markdown",
   "metadata": {},
   "source": [
    "## Calculations for age participation"
   ]
  },
  {
   "cell_type": "code",
   "execution_count": 15,
   "metadata": {},
   "outputs": [],
   "source": [
    "file_import = os.path.join(\"Resources\",\"Age_participation.csv\")\n",
    "with open(file_import, 'r', encoding='utf-8-sig') as csv_file:\n",
    "    csv_reader = csv.reader(csv_file, delimiter=\",\")\n",
    "    csv_header = next(csv_reader)\n",
    "    Age_part = pd.DataFrame(csv_reader, columns = csv_header)"
   ]
  },
  {
   "cell_type": "code",
   "execution_count": 16,
   "metadata": {},
   "outputs": [
    {
     "data": {
      "text/html": [
       "<div>\n",
       "<style scoped>\n",
       "    .dataframe tbody tr th:only-of-type {\n",
       "        vertical-align: middle;\n",
       "    }\n",
       "\n",
       "    .dataframe tbody tr th {\n",
       "        vertical-align: top;\n",
       "    }\n",
       "\n",
       "    .dataframe thead th {\n",
       "        text-align: right;\n",
       "    }\n",
       "</style>\n",
       "<table border=\"1\" class=\"dataframe\">\n",
       "  <thead>\n",
       "    <tr style=\"text-align: right;\">\n",
       "      <th></th>\n",
       "      <th></th>\n",
       "      <th>2016</th>\n",
       "      <th>2012</th>\n",
       "      <th>2008</th>\n",
       "      <th>2004</th>\n",
       "      <th>2000</th>\n",
       "      <th>1996</th>\n",
       "      <th>1992</th>\n",
       "      <th>1988</th>\n",
       "      <th>1984</th>\n",
       "      <th>1980</th>\n",
       "      <th>1976</th>\n",
       "    </tr>\n",
       "  </thead>\n",
       "  <tbody>\n",
       "    <tr>\n",
       "      <th>0</th>\n",
       "      <td>18 to 24 years</td>\n",
       "      <td>39.4</td>\n",
       "      <td>38</td>\n",
       "      <td>44.3</td>\n",
       "      <td>41.9</td>\n",
       "      <td>32.3</td>\n",
       "      <td>32.4</td>\n",
       "      <td>42.8</td>\n",
       "      <td>36.2</td>\n",
       "      <td>40.8</td>\n",
       "      <td>39.9</td>\n",
       "      <td>42.2</td>\n",
       "    </tr>\n",
       "    <tr>\n",
       "      <th>1</th>\n",
       "      <td>25 to 44 years</td>\n",
       "      <td>48.97788504</td>\n",
       "      <td>49.5</td>\n",
       "      <td>51.9</td>\n",
       "      <td>52.2</td>\n",
       "      <td>49.8</td>\n",
       "      <td>49.2</td>\n",
       "      <td>58.3</td>\n",
       "      <td>54</td>\n",
       "      <td>58.4</td>\n",
       "      <td>58.7</td>\n",
       "      <td>58.7</td>\n",
       "    </tr>\n",
       "    <tr>\n",
       "      <th>2</th>\n",
       "      <td>45 to 64 years</td>\n",
       "      <td>61.7</td>\n",
       "      <td>63.4</td>\n",
       "      <td>65</td>\n",
       "      <td>66.6</td>\n",
       "      <td>64.1</td>\n",
       "      <td>64.4</td>\n",
       "      <td>70</td>\n",
       "      <td>67.9</td>\n",
       "      <td>69.8</td>\n",
       "      <td>69.3</td>\n",
       "      <td>68.7</td>\n",
       "    </tr>\n",
       "    <tr>\n",
       "      <th>3</th>\n",
       "      <td>65 years and over</td>\n",
       "      <td>68.42905267</td>\n",
       "      <td>69.7</td>\n",
       "      <td>68.1</td>\n",
       "      <td>68.9</td>\n",
       "      <td>67.6</td>\n",
       "      <td>67</td>\n",
       "      <td>70.1</td>\n",
       "      <td>68.8</td>\n",
       "      <td>67.7</td>\n",
       "      <td>65.1</td>\n",
       "      <td>62.2</td>\n",
       "    </tr>\n",
       "  </tbody>\n",
       "</table>\n",
       "</div>"
      ],
      "text/plain": [
       "                             2016  2012  2008  2004  2000  1996  1992  1988  \\\n",
       "0     18 to 24 years         39.4    38  44.3  41.9  32.3  32.4  42.8  36.2   \n",
       "1     25 to 44 years  48.97788504  49.5  51.9  52.2  49.8  49.2  58.3    54   \n",
       "2     45 to 64 years         61.7  63.4    65  66.6  64.1  64.4    70  67.9   \n",
       "3  65 years and over  68.42905267  69.7  68.1  68.9  67.6    67  70.1  68.8   \n",
       "\n",
       "   1984  1980  1976  \n",
       "0  40.8  39.9  42.2  \n",
       "1  58.4  58.7  58.7  \n",
       "2  69.8  69.3  68.7  \n",
       "3  67.7  65.1  62.2  "
      ]
     },
     "execution_count": 16,
     "metadata": {},
     "output_type": "execute_result"
    }
   ],
   "source": [
    "Age_part"
   ]
  },
  {
   "cell_type": "code",
   "execution_count": 17,
   "metadata": {},
   "outputs": [],
   "source": [
    "Age_part = Age_part.set_index(Age_part.columns[0])"
   ]
  },
  {
   "cell_type": "code",
   "execution_count": 18,
   "metadata": {},
   "outputs": [
    {
     "data": {
      "text/html": [
       "<div>\n",
       "<style scoped>\n",
       "    .dataframe tbody tr th:only-of-type {\n",
       "        vertical-align: middle;\n",
       "    }\n",
       "\n",
       "    .dataframe tbody tr th {\n",
       "        vertical-align: top;\n",
       "    }\n",
       "\n",
       "    .dataframe thead th {\n",
       "        text-align: right;\n",
       "    }\n",
       "</style>\n",
       "<table border=\"1\" class=\"dataframe\">\n",
       "  <thead>\n",
       "    <tr style=\"text-align: right;\">\n",
       "      <th></th>\n",
       "      <th>2016</th>\n",
       "      <th>2012</th>\n",
       "      <th>2008</th>\n",
       "      <th>2004</th>\n",
       "      <th>2000</th>\n",
       "      <th>1996</th>\n",
       "      <th>1992</th>\n",
       "      <th>1988</th>\n",
       "      <th>1984</th>\n",
       "      <th>1980</th>\n",
       "      <th>1976</th>\n",
       "    </tr>\n",
       "    <tr>\n",
       "      <th></th>\n",
       "      <th></th>\n",
       "      <th></th>\n",
       "      <th></th>\n",
       "      <th></th>\n",
       "      <th></th>\n",
       "      <th></th>\n",
       "      <th></th>\n",
       "      <th></th>\n",
       "      <th></th>\n",
       "      <th></th>\n",
       "      <th></th>\n",
       "    </tr>\n",
       "  </thead>\n",
       "  <tbody>\n",
       "    <tr>\n",
       "      <th>18 to 24 years</th>\n",
       "      <td>39.4</td>\n",
       "      <td>38</td>\n",
       "      <td>44.3</td>\n",
       "      <td>41.9</td>\n",
       "      <td>32.3</td>\n",
       "      <td>32.4</td>\n",
       "      <td>42.8</td>\n",
       "      <td>36.2</td>\n",
       "      <td>40.8</td>\n",
       "      <td>39.9</td>\n",
       "      <td>42.2</td>\n",
       "    </tr>\n",
       "    <tr>\n",
       "      <th>25 to 44 years</th>\n",
       "      <td>48.97788504</td>\n",
       "      <td>49.5</td>\n",
       "      <td>51.9</td>\n",
       "      <td>52.2</td>\n",
       "      <td>49.8</td>\n",
       "      <td>49.2</td>\n",
       "      <td>58.3</td>\n",
       "      <td>54</td>\n",
       "      <td>58.4</td>\n",
       "      <td>58.7</td>\n",
       "      <td>58.7</td>\n",
       "    </tr>\n",
       "    <tr>\n",
       "      <th>45 to 64 years</th>\n",
       "      <td>61.7</td>\n",
       "      <td>63.4</td>\n",
       "      <td>65</td>\n",
       "      <td>66.6</td>\n",
       "      <td>64.1</td>\n",
       "      <td>64.4</td>\n",
       "      <td>70</td>\n",
       "      <td>67.9</td>\n",
       "      <td>69.8</td>\n",
       "      <td>69.3</td>\n",
       "      <td>68.7</td>\n",
       "    </tr>\n",
       "    <tr>\n",
       "      <th>65 years and over</th>\n",
       "      <td>68.42905267</td>\n",
       "      <td>69.7</td>\n",
       "      <td>68.1</td>\n",
       "      <td>68.9</td>\n",
       "      <td>67.6</td>\n",
       "      <td>67</td>\n",
       "      <td>70.1</td>\n",
       "      <td>68.8</td>\n",
       "      <td>67.7</td>\n",
       "      <td>65.1</td>\n",
       "      <td>62.2</td>\n",
       "    </tr>\n",
       "  </tbody>\n",
       "</table>\n",
       "</div>"
      ],
      "text/plain": [
       "                          2016  2012  2008  2004  2000  1996  1992  1988  \\\n",
       "                                                                           \n",
       "18 to 24 years            39.4    38  44.3  41.9  32.3  32.4  42.8  36.2   \n",
       "25 to 44 years     48.97788504  49.5  51.9  52.2  49.8  49.2  58.3    54   \n",
       "45 to 64 years            61.7  63.4    65  66.6  64.1  64.4    70  67.9   \n",
       "65 years and over  68.42905267  69.7  68.1  68.9  67.6    67  70.1  68.8   \n",
       "\n",
       "                   1984  1980  1976  \n",
       "                                     \n",
       "18 to 24 years     40.8  39.9  42.2  \n",
       "25 to 44 years     58.4  58.7  58.7  \n",
       "45 to 64 years     69.8  69.3  68.7  \n",
       "65 years and over  67.7  65.1  62.2  "
      ]
     },
     "execution_count": 18,
     "metadata": {},
     "output_type": "execute_result"
    }
   ],
   "source": [
    "Age_part"
   ]
  },
  {
   "cell_type": "code",
   "execution_count": 19,
   "metadata": {},
   "outputs": [
    {
     "data": {
      "text/plain": [
       "2016    float64\n",
       "2012    float64\n",
       "2008    float64\n",
       "2004    float64\n",
       "2000    float64\n",
       "1996    float64\n",
       "1992    float64\n",
       "1988    float64\n",
       "1984    float64\n",
       "1980    float64\n",
       "1976    float64\n",
       "dtype: object"
      ]
     },
     "execution_count": 19,
     "metadata": {},
     "output_type": "execute_result"
    }
   ],
   "source": [
    "Age_part = Age_part.apply(pd.to_numeric)\n",
    "Age_part.dtypes"
   ]
  },
  {
   "cell_type": "code",
   "execution_count": 20,
   "metadata": {},
   "outputs": [],
   "source": [
    "Age_part = Age_part.transpose(copy = True)\n"
   ]
  },
  {
   "cell_type": "code",
   "execution_count": 21,
   "metadata": {},
   "outputs": [
    {
     "data": {
      "text/html": [
       "<div>\n",
       "<style scoped>\n",
       "    .dataframe tbody tr th:only-of-type {\n",
       "        vertical-align: middle;\n",
       "    }\n",
       "\n",
       "    .dataframe tbody tr th {\n",
       "        vertical-align: top;\n",
       "    }\n",
       "\n",
       "    .dataframe thead th {\n",
       "        text-align: right;\n",
       "    }\n",
       "</style>\n",
       "<table border=\"1\" class=\"dataframe\">\n",
       "  <thead>\n",
       "    <tr style=\"text-align: right;\">\n",
       "      <th></th>\n",
       "      <th>18 to 24 years</th>\n",
       "      <th>25 to 44 years</th>\n",
       "      <th>45 to 64 years</th>\n",
       "      <th>65 years and over</th>\n",
       "    </tr>\n",
       "  </thead>\n",
       "  <tbody>\n",
       "    <tr>\n",
       "      <th>2016</th>\n",
       "      <td>39.4</td>\n",
       "      <td>48.977885</td>\n",
       "      <td>61.7</td>\n",
       "      <td>68.429053</td>\n",
       "    </tr>\n",
       "    <tr>\n",
       "      <th>2012</th>\n",
       "      <td>38.0</td>\n",
       "      <td>49.500000</td>\n",
       "      <td>63.4</td>\n",
       "      <td>69.700000</td>\n",
       "    </tr>\n",
       "    <tr>\n",
       "      <th>2008</th>\n",
       "      <td>44.3</td>\n",
       "      <td>51.900000</td>\n",
       "      <td>65.0</td>\n",
       "      <td>68.100000</td>\n",
       "    </tr>\n",
       "    <tr>\n",
       "      <th>2004</th>\n",
       "      <td>41.9</td>\n",
       "      <td>52.200000</td>\n",
       "      <td>66.6</td>\n",
       "      <td>68.900000</td>\n",
       "    </tr>\n",
       "    <tr>\n",
       "      <th>2000</th>\n",
       "      <td>32.3</td>\n",
       "      <td>49.800000</td>\n",
       "      <td>64.1</td>\n",
       "      <td>67.600000</td>\n",
       "    </tr>\n",
       "    <tr>\n",
       "      <th>1996</th>\n",
       "      <td>32.4</td>\n",
       "      <td>49.200000</td>\n",
       "      <td>64.4</td>\n",
       "      <td>67.000000</td>\n",
       "    </tr>\n",
       "    <tr>\n",
       "      <th>1992</th>\n",
       "      <td>42.8</td>\n",
       "      <td>58.300000</td>\n",
       "      <td>70.0</td>\n",
       "      <td>70.100000</td>\n",
       "    </tr>\n",
       "    <tr>\n",
       "      <th>1988</th>\n",
       "      <td>36.2</td>\n",
       "      <td>54.000000</td>\n",
       "      <td>67.9</td>\n",
       "      <td>68.800000</td>\n",
       "    </tr>\n",
       "    <tr>\n",
       "      <th>1984</th>\n",
       "      <td>40.8</td>\n",
       "      <td>58.400000</td>\n",
       "      <td>69.8</td>\n",
       "      <td>67.700000</td>\n",
       "    </tr>\n",
       "    <tr>\n",
       "      <th>1980</th>\n",
       "      <td>39.9</td>\n",
       "      <td>58.700000</td>\n",
       "      <td>69.3</td>\n",
       "      <td>65.100000</td>\n",
       "    </tr>\n",
       "    <tr>\n",
       "      <th>1976</th>\n",
       "      <td>42.2</td>\n",
       "      <td>58.700000</td>\n",
       "      <td>68.7</td>\n",
       "      <td>62.200000</td>\n",
       "    </tr>\n",
       "  </tbody>\n",
       "</table>\n",
       "</div>"
      ],
      "text/plain": [
       "      18 to 24 years  25 to 44 years  45 to 64 years  65 years and over\n",
       "2016            39.4       48.977885            61.7          68.429053\n",
       "2012            38.0       49.500000            63.4          69.700000\n",
       "2008            44.3       51.900000            65.0          68.100000\n",
       "2004            41.9       52.200000            66.6          68.900000\n",
       "2000            32.3       49.800000            64.1          67.600000\n",
       "1996            32.4       49.200000            64.4          67.000000\n",
       "1992            42.8       58.300000            70.0          70.100000\n",
       "1988            36.2       54.000000            67.9          68.800000\n",
       "1984            40.8       58.400000            69.8          67.700000\n",
       "1980            39.9       58.700000            69.3          65.100000\n",
       "1976            42.2       58.700000            68.7          62.200000"
      ]
     },
     "execution_count": 21,
     "metadata": {},
     "output_type": "execute_result"
    }
   ],
   "source": [
    "Age_part"
   ]
  },
  {
   "cell_type": "code",
   "execution_count": 22,
   "metadata": {},
   "outputs": [],
   "source": [
    "iterations = [0,1,2,3]"
   ]
  },
  {
   "cell_type": "code",
   "execution_count": 23,
   "metadata": {},
   "outputs": [
    {
     "name": "stdout",
     "output_type": "stream",
     "text": [
      "Predicted growth in 2020 for 18 to 24 years is of 0.006889061635877214\n",
      "Predicted growth in 2020 for 25 to 44 years is of 0.018272012853188357\n",
      "Predicted growth in 2020 for 45 to 64 years is of 0.010804478156951625\n",
      "Predicted growth in 2020 for 65 years and over is of -0.009498846354683899\n"
     ]
    }
   ],
   "source": [
    "for i in iterations:\n",
    "    start_value = float(Age_part.iloc[0, i])\n",
    "    end_value = float(Age_part.iloc[-1, i])\n",
    "    num_periods = len(Age_part)\n",
    "    print(f'Predicted growth in 2020 for {Age_part.columns[i]} is of {cagr(start_value, end_value, num_periods)}')"
   ]
  },
  {
   "cell_type": "markdown",
   "metadata": {},
   "source": [
    "## Calculations for gender participation"
   ]
  },
  {
   "cell_type": "code",
   "execution_count": 24,
   "metadata": {},
   "outputs": [],
   "source": [
    "file_import = os.path.join(\"Resources\",\"Gender_participation.csv\")\n",
    "with open(file_import, 'r', encoding='utf-8-sig') as csv_file:\n",
    "    csv_reader = csv.reader(csv_file, delimiter=\",\")\n",
    "    csv_header = next(csv_reader)\n",
    "    Gender_part = pd.DataFrame(csv_reader, columns = csv_header)"
   ]
  },
  {
   "cell_type": "code",
   "execution_count": 25,
   "metadata": {},
   "outputs": [
    {
     "data": {
      "text/html": [
       "<div>\n",
       "<style scoped>\n",
       "    .dataframe tbody tr th:only-of-type {\n",
       "        vertical-align: middle;\n",
       "    }\n",
       "\n",
       "    .dataframe tbody tr th {\n",
       "        vertical-align: top;\n",
       "    }\n",
       "\n",
       "    .dataframe thead th {\n",
       "        text-align: right;\n",
       "    }\n",
       "</style>\n",
       "<table border=\"1\" class=\"dataframe\">\n",
       "  <thead>\n",
       "    <tr style=\"text-align: right;\">\n",
       "      <th></th>\n",
       "      <th></th>\n",
       "      <th>2016</th>\n",
       "      <th>2012</th>\n",
       "      <th>2008</th>\n",
       "      <th>2004</th>\n",
       "      <th>2000</th>\n",
       "      <th>1996</th>\n",
       "      <th>1992</th>\n",
       "      <th>1988</th>\n",
       "      <th>1984</th>\n",
       "      <th>1980</th>\n",
       "      <th>1976</th>\n",
       "    </tr>\n",
       "  </thead>\n",
       "  <tbody>\n",
       "    <tr>\n",
       "      <th>0</th>\n",
       "      <td>Male</td>\n",
       "      <td>53.8</td>\n",
       "      <td>54.4</td>\n",
       "      <td>55.7</td>\n",
       "      <td>56.3</td>\n",
       "      <td>53.1</td>\n",
       "      <td>52.8</td>\n",
       "      <td>60.2</td>\n",
       "      <td>56.4</td>\n",
       "      <td>59</td>\n",
       "      <td>59.1</td>\n",
       "      <td>59.6</td>\n",
       "    </tr>\n",
       "    <tr>\n",
       "      <th>1</th>\n",
       "      <td>Female</td>\n",
       "      <td>58.1</td>\n",
       "      <td>58.5</td>\n",
       "      <td>60.4</td>\n",
       "      <td>60.1</td>\n",
       "      <td>56.2</td>\n",
       "      <td>55.5</td>\n",
       "      <td>62.3</td>\n",
       "      <td>58.3</td>\n",
       "      <td>60.8</td>\n",
       "      <td>59.4</td>\n",
       "      <td>58.8</td>\n",
       "    </tr>\n",
       "  </tbody>\n",
       "</table>\n",
       "</div>"
      ],
      "text/plain": [
       "           2016  2012  2008  2004  2000  1996  1992  1988  1984  1980  1976\n",
       "0    Male  53.8  54.4  55.7  56.3  53.1  52.8  60.2  56.4    59  59.1  59.6\n",
       "1  Female  58.1  58.5  60.4  60.1  56.2  55.5  62.3  58.3  60.8  59.4  58.8"
      ]
     },
     "execution_count": 25,
     "metadata": {},
     "output_type": "execute_result"
    }
   ],
   "source": [
    "Gender_part"
   ]
  },
  {
   "cell_type": "code",
   "execution_count": 67,
   "metadata": {},
   "outputs": [],
   "source": [
    "Gender_part.shape\n",
    "Year2016=Gender_part.loc['2016']\n",
    "#Year2016\n",
    "Year2012=Gender_part.loc['2012']\n",
    "Year2008=Gender_part.loc['2008']\n",
    "Year2004=Gender_part.loc['2004']\n",
    "Year2000=Gender_part.loc['2000']"
   ]
  },
  {
   "cell_type": "code",
   "execution_count": 68,
   "metadata": {},
   "outputs": [],
   "source": [
    "Gender_part = Gender_part.set_index(Gender_part.columns[0])"
   ]
  },
  {
   "cell_type": "code",
   "execution_count": 69,
   "metadata": {},
   "outputs": [
    {
     "data": {
      "text/html": [
       "<div>\n",
       "<style scoped>\n",
       "    .dataframe tbody tr th:only-of-type {\n",
       "        vertical-align: middle;\n",
       "    }\n",
       "\n",
       "    .dataframe tbody tr th {\n",
       "        vertical-align: top;\n",
       "    }\n",
       "\n",
       "    .dataframe thead th {\n",
       "        text-align: right;\n",
       "    }\n",
       "</style>\n",
       "<table border=\"1\" class=\"dataframe\">\n",
       "  <thead>\n",
       "    <tr style=\"text-align: right;\">\n",
       "      <th></th>\n",
       "      <th>Female</th>\n",
       "    </tr>\n",
       "    <tr>\n",
       "      <th>Male</th>\n",
       "      <th></th>\n",
       "    </tr>\n",
       "  </thead>\n",
       "  <tbody>\n",
       "    <tr>\n",
       "      <th>53.8</th>\n",
       "      <td>58.1</td>\n",
       "    </tr>\n",
       "    <tr>\n",
       "      <th>54.4</th>\n",
       "      <td>58.5</td>\n",
       "    </tr>\n",
       "    <tr>\n",
       "      <th>55.7</th>\n",
       "      <td>60.4</td>\n",
       "    </tr>\n",
       "    <tr>\n",
       "      <th>56.3</th>\n",
       "      <td>60.1</td>\n",
       "    </tr>\n",
       "    <tr>\n",
       "      <th>53.1</th>\n",
       "      <td>56.2</td>\n",
       "    </tr>\n",
       "    <tr>\n",
       "      <th>52.8</th>\n",
       "      <td>55.5</td>\n",
       "    </tr>\n",
       "    <tr>\n",
       "      <th>60.2</th>\n",
       "      <td>62.3</td>\n",
       "    </tr>\n",
       "    <tr>\n",
       "      <th>56.4</th>\n",
       "      <td>58.3</td>\n",
       "    </tr>\n",
       "    <tr>\n",
       "      <th>59</th>\n",
       "      <td>60.8</td>\n",
       "    </tr>\n",
       "    <tr>\n",
       "      <th>59.1</th>\n",
       "      <td>59.4</td>\n",
       "    </tr>\n",
       "    <tr>\n",
       "      <th>59.6</th>\n",
       "      <td>58.8</td>\n",
       "    </tr>\n",
       "  </tbody>\n",
       "</table>\n",
       "</div>"
      ],
      "text/plain": [
       "     Female\n",
       "Male       \n",
       "53.8   58.1\n",
       "54.4   58.5\n",
       "55.7   60.4\n",
       "56.3   60.1\n",
       "53.1   56.2\n",
       "52.8   55.5\n",
       "60.2   62.3\n",
       "56.4   58.3\n",
       "59     60.8\n",
       "59.1   59.4\n",
       "59.6   58.8"
      ]
     },
     "execution_count": 69,
     "metadata": {},
     "output_type": "execute_result"
    }
   ],
   "source": [
    "Gender_part"
   ]
  },
  {
   "cell_type": "code",
   "execution_count": 73,
   "metadata": {},
   "outputs": [
    {
     "data": {
      "image/png": "[encoded data removed]",
      "text/plain": [
       "<Figure size 432x288 with 1 Axes>"
      ]
     },
     "metadata": {},
     "output_type": "display_data"
    }
   ],
   "source": [
    "labels=[\"Male\",\"Female\"]\n",
    "sizes=Year2016\n",
    "colors = ['#9999ff','#ff9999']                         \n",
    "explode = (0.05,0.05)\n",
    "plt.pie(sizes, colors = colors, labels=labels, autopct='%1.1f%%', startangle=90, pctdistance=0.85, explode = explode)\n",
    "#draw circle\n",
    "centre_circle = plt.Circle((0,0),0.50,fc='white')\n",
    "fig = plt.gcf()\n",
    "fig.gca().add_artist(centre_circle)                         \n",
    "plt.axis(\"equal\")  \n",
    "plt.tight_layout()\n",
    "plt.title(\"Percentage of Participation by Gender Year 2016\")\n",
    "plt.savefig(\"./Images/Gender2016.png\")\n",
    "plt.show()"
   ]
  },
  {
   "cell_type": "code",
   "execution_count": 71,
   "metadata": {},
   "outputs": [
    {
     "data": {
      "image/png": "[encoded data removed]",
      "text/plain": [
       "<Figure size 432x288 with 1 Axes>"
      ]
     },
     "metadata": {},
     "output_type": "display_data"
    }
   ],
   "source": [
    "labels=[\"Male\",\"Female\"]\n",
    "sizes=Year2012\n",
    "colors = ['#9999ff','#ff9999']                         \n",
    "explode = (0.05,0.05)\n",
    "plt.pie(sizes, colors = colors, labels=labels, autopct='%1.1f%%', startangle=90, pctdistance=0.85, explode = explode)\n",
    "#draw circle\n",
    "centre_circle = plt.Circle((0,0),0.50,fc='white')\n",
    "fig = plt.gcf()\n",
    "fig.gca().add_artist(centre_circle)                         \n",
    "plt.axis(\"equal\")  \n",
    "plt.tight_layout()\n",
    "plt.title(\"Percentage of Participation by Gender Year 2012\")\n",
    "plt.savefig(\"./Images/Gender2012.png\")\n",
    "plt.show()"
   ]
  },
  {
   "cell_type": "code",
   "execution_count": 74,
   "metadata": {},
   "outputs": [
    {
     "data": {
      "image/png": "[encoded data removed]",
      "text/plain": [
       "<Figure size 432x288 with 1 Axes>"
      ]
     },
     "metadata": {},
     "output_type": "display_data"
    }
   ],
   "source": [
    "labels=[\"Male\",\"Female\"]\n",
    "sizes=Year2008\n",
    "colors = ['#9999ff','#ff9999']                         \n",
    "explode = (0.05,0.05)\n",
    "plt.pie(sizes, colors = colors, labels=labels, autopct='%1.1f%%', startangle=90, pctdistance=0.85, explode = explode)\n",
    "#draw circle\n",
    "centre_circle = plt.Circle((0,0),0.50,fc='white')\n",
    "fig = plt.gcf()\n",
    "fig.gca().add_artist(centre_circle)                         \n",
    "plt.axis(\"equal\")  \n",
    "plt.tight_layout()\n",
    "plt.title(\"Percentage of Participation by Gender Year 2008\")\n",
    "plt.savefig(\"./Images/Gender2008.png\")\n",
    "plt.show()"
   ]
  },
  {
   "cell_type": "code",
   "execution_count": null,
   "metadata": {},
   "outputs": [],
   "source": []
  },
  {
   "cell_type": "code",
   "execution_count": 28,
   "metadata": {},
   "outputs": [],
   "source": [
    "Gender_part = Gender_part.transpose(copy = True)"
   ]
  },
  {
   "cell_type": "code",
   "execution_count": 29,
   "metadata": {},
   "outputs": [
    {
     "data": {
      "text/html": [
       "<div>\n",
       "<style scoped>\n",
       "    .dataframe tbody tr th:only-of-type {\n",
       "        vertical-align: middle;\n",
       "    }\n",
       "\n",
       "    .dataframe tbody tr th {\n",
       "        vertical-align: top;\n",
       "    }\n",
       "\n",
       "    .dataframe thead th {\n",
       "        text-align: right;\n",
       "    }\n",
       "</style>\n",
       "<table border=\"1\" class=\"dataframe\">\n",
       "  <thead>\n",
       "    <tr style=\"text-align: right;\">\n",
       "      <th></th>\n",
       "      <th>Male</th>\n",
       "      <th>Female</th>\n",
       "    </tr>\n",
       "  </thead>\n",
       "  <tbody>\n",
       "    <tr>\n",
       "      <th>2016</th>\n",
       "      <td>53.8</td>\n",
       "      <td>58.1</td>\n",
       "    </tr>\n",
       "    <tr>\n",
       "      <th>2012</th>\n",
       "      <td>54.4</td>\n",
       "      <td>58.5</td>\n",
       "    </tr>\n",
       "    <tr>\n",
       "      <th>2008</th>\n",
       "      <td>55.7</td>\n",
       "      <td>60.4</td>\n",
       "    </tr>\n",
       "    <tr>\n",
       "      <th>2004</th>\n",
       "      <td>56.3</td>\n",
       "      <td>60.1</td>\n",
       "    </tr>\n",
       "    <tr>\n",
       "      <th>2000</th>\n",
       "      <td>53.1</td>\n",
       "      <td>56.2</td>\n",
       "    </tr>\n",
       "    <tr>\n",
       "      <th>1996</th>\n",
       "      <td>52.8</td>\n",
       "      <td>55.5</td>\n",
       "    </tr>\n",
       "    <tr>\n",
       "      <th>1992</th>\n",
       "      <td>60.2</td>\n",
       "      <td>62.3</td>\n",
       "    </tr>\n",
       "    <tr>\n",
       "      <th>1988</th>\n",
       "      <td>56.4</td>\n",
       "      <td>58.3</td>\n",
       "    </tr>\n",
       "    <tr>\n",
       "      <th>1984</th>\n",
       "      <td>59</td>\n",
       "      <td>60.8</td>\n",
       "    </tr>\n",
       "    <tr>\n",
       "      <th>1980</th>\n",
       "      <td>59.1</td>\n",
       "      <td>59.4</td>\n",
       "    </tr>\n",
       "    <tr>\n",
       "      <th>1976</th>\n",
       "      <td>59.6</td>\n",
       "      <td>58.8</td>\n",
       "    </tr>\n",
       "  </tbody>\n",
       "</table>\n",
       "</div>"
      ],
      "text/plain": [
       "      Male Female\n",
       "2016  53.8   58.1\n",
       "2012  54.4   58.5\n",
       "2008  55.7   60.4\n",
       "2004  56.3   60.1\n",
       "2000  53.1   56.2\n",
       "1996  52.8   55.5\n",
       "1992  60.2   62.3\n",
       "1988  56.4   58.3\n",
       "1984    59   60.8\n",
       "1980  59.1   59.4\n",
       "1976  59.6   58.8"
      ]
     },
     "execution_count": 29,
     "metadata": {},
     "output_type": "execute_result"
    }
   ],
   "source": [
    "Gender_part"
   ]
  },
  {
   "cell_type": "code",
   "execution_count": null,
   "metadata": {},
   "outputs": [],
   "source": []
  },
  {
   "cell_type": "code",
   "execution_count": null,
   "metadata": {},
   "outputs": [],
   "source": []
  },
  {
   "cell_type": "code",
   "execution_count": 30,
   "metadata": {},
   "outputs": [],
   "source": [
    "import numpy as np"
   ]
  },
  {
   "cell_type": "code",
   "execution_count": 31,
   "metadata": {},
   "outputs": [],
   "source": [
    "iterations = (np.arange(0, len(Gender_part.columns)))"
   ]
  },
  {
   "cell_type": "code",
   "execution_count": 32,
   "metadata": {},
   "outputs": [
    {
     "name": "stdout",
     "output_type": "stream",
     "text": [
      "Predicted growth in 2020 for Male is of 0.010290800491351115\n",
      "Predicted growth in 2020 for Female is of 0.0011983365368064547\n"
     ]
    }
   ],
   "source": [
    "for i in iterations:\n",
    "    start_value = float(Gender_part.iloc[0, i])\n",
    "    end_value = float(Gender_part.iloc[-1, i])\n",
    "    num_periods = len(Gender_part)\n",
    "    print(f'Predicted growth in 2020 for {Gender_part.columns[i]} is of {cagr(start_value, end_value, num_periods)}')"
   ]
  },
  {
   "cell_type": "markdown",
   "metadata": {},
   "source": [
    "## Calculations for race participation"
   ]
  },
  {
   "cell_type": "code",
   "execution_count": 33,
   "metadata": {},
   "outputs": [],
   "source": [
    "file_import = os.path.join(\"Resources\",\"Race_participation.csv\")\n",
    "with open(file_import, 'r', encoding='utf-8-sig') as csv_file:\n",
    "    csv_reader = csv.reader(csv_file, delimiter=\",\")\n",
    "    csv_header = next(csv_reader)\n",
    "    Race_part = pd.DataFrame(csv_reader, columns = csv_header)"
   ]
  },
  {
   "cell_type": "code",
   "execution_count": 34,
   "metadata": {},
   "outputs": [
    {
     "data": {
      "text/html": [
       "<div>\n",
       "<style scoped>\n",
       "    .dataframe tbody tr th:only-of-type {\n",
       "        vertical-align: middle;\n",
       "    }\n",
       "\n",
       "    .dataframe tbody tr th {\n",
       "        vertical-align: top;\n",
       "    }\n",
       "\n",
       "    .dataframe thead th {\n",
       "        text-align: right;\n",
       "    }\n",
       "</style>\n",
       "<table border=\"1\" class=\"dataframe\">\n",
       "  <thead>\n",
       "    <tr style=\"text-align: right;\">\n",
       "      <th></th>\n",
       "      <th></th>\n",
       "      <th>2016</th>\n",
       "      <th>2012</th>\n",
       "      <th>2008</th>\n",
       "      <th>2004</th>\n",
       "      <th>2000</th>\n",
       "      <th>1996</th>\n",
       "      <th>1992</th>\n",
       "      <th>1988</th>\n",
       "      <th>1984</th>\n",
       "      <th>1980</th>\n",
       "      <th>1976</th>\n",
       "    </tr>\n",
       "  </thead>\n",
       "  <tbody>\n",
       "    <tr>\n",
       "      <th>0</th>\n",
       "      <td>White</td>\n",
       "      <td>58.2</td>\n",
       "      <td>57.6</td>\n",
       "      <td>59.6</td>\n",
       "      <td>60.3</td>\n",
       "      <td>56.4</td>\n",
       "      <td>56</td>\n",
       "      <td>63.6</td>\n",
       "      <td>59.1</td>\n",
       "      <td>61.4</td>\n",
       "      <td>60.9</td>\n",
       "      <td>60.9</td>\n",
       "    </tr>\n",
       "    <tr>\n",
       "      <th>1</th>\n",
       "      <td>White non-Hispanic</td>\n",
       "      <td>64.1</td>\n",
       "      <td>63</td>\n",
       "      <td>64.8</td>\n",
       "      <td>65.8</td>\n",
       "      <td>60.4</td>\n",
       "      <td>59.6</td>\n",
       "      <td>66.9</td>\n",
       "      <td>61.8</td>\n",
       "      <td>63.3</td>\n",
       "      <td>62.8</td>\n",
       "      <td>0</td>\n",
       "    </tr>\n",
       "    <tr>\n",
       "      <th>2</th>\n",
       "      <td>Black</td>\n",
       "      <td>55.9</td>\n",
       "      <td>62</td>\n",
       "      <td>60.8</td>\n",
       "      <td>56.3</td>\n",
       "      <td>53.5</td>\n",
       "      <td>50.6</td>\n",
       "      <td>54</td>\n",
       "      <td>51.5</td>\n",
       "      <td>55.8</td>\n",
       "      <td>50.5</td>\n",
       "      <td>48.7</td>\n",
       "    </tr>\n",
       "    <tr>\n",
       "      <th>3</th>\n",
       "      <td>Asian and Pacific Islander</td>\n",
       "      <td>33.9</td>\n",
       "      <td>31.3</td>\n",
       "      <td>32.1</td>\n",
       "      <td>29.8</td>\n",
       "      <td>25.4</td>\n",
       "      <td>25.7</td>\n",
       "      <td>27.3</td>\n",
       "      <td>0</td>\n",
       "      <td>0</td>\n",
       "      <td>0</td>\n",
       "      <td>0</td>\n",
       "    </tr>\n",
       "    <tr>\n",
       "      <th>4</th>\n",
       "      <td>Hispanic (of any race)</td>\n",
       "      <td>32.5</td>\n",
       "      <td>31.8</td>\n",
       "      <td>31.6</td>\n",
       "      <td>28</td>\n",
       "      <td>27.5</td>\n",
       "      <td>26.7</td>\n",
       "      <td>28.9</td>\n",
       "      <td>28.8</td>\n",
       "      <td>32.6</td>\n",
       "      <td>29.9</td>\n",
       "      <td>31.8</td>\n",
       "    </tr>\n",
       "  </tbody>\n",
       "</table>\n",
       "</div>"
      ],
      "text/plain": [
       "                               2016  2012  2008  2004  2000  1996  1992  1988  \\\n",
       "0                      White   58.2  57.6  59.6  60.3  56.4    56  63.6  59.1   \n",
       "1          White non-Hispanic  64.1    63  64.8  65.8  60.4  59.6  66.9  61.8   \n",
       "2                       Black  55.9    62  60.8  56.3  53.5  50.6    54  51.5   \n",
       "3  Asian and Pacific Islander  33.9  31.3  32.1  29.8  25.4  25.7  27.3     0   \n",
       "4      Hispanic (of any race)  32.5  31.8  31.6    28  27.5  26.7  28.9  28.8   \n",
       "\n",
       "   1984  1980  1976  \n",
       "0  61.4  60.9  60.9  \n",
       "1  63.3  62.8     0  \n",
       "2  55.8  50.5  48.7  \n",
       "3     0     0     0  \n",
       "4  32.6  29.9  31.8  "
      ]
     },
     "execution_count": 34,
     "metadata": {},
     "output_type": "execute_result"
    }
   ],
   "source": [
    "Race_part"
   ]
  },
  {
   "cell_type": "code",
   "execution_count": 35,
   "metadata": {},
   "outputs": [],
   "source": [
    "Race_part = Race_part.set_index(Race_part.columns[0])"
   ]
  },
  {
   "cell_type": "code",
   "execution_count": 36,
   "metadata": {},
   "outputs": [
    {
     "data": {
      "text/plain": [
       "\n",
       "White                         58.2\n",
       "White non-Hispanic            64.1\n",
       "Black                         55.9\n",
       "Asian and Pacific Islander    33.9\n",
       "Hispanic (of any race)        32.5\n",
       "Name: 2016, dtype: object"
      ]
     },
     "execution_count": 36,
     "metadata": {},
     "output_type": "execute_result"
    }
   ],
   "source": [
    "ElectionPastRace=Race_part['2016']\n",
    "ElectionPastRace"
   ]
  },
  {
   "cell_type": "code",
   "execution_count": 44,
   "metadata": {},
   "outputs": [
    {
     "data": {
      "image/png": "[encoded data removed]",
      "text/plain": [
       "<Figure size 432x288 with 1 Axes>"
      ]
     },
     "metadata": {},
     "output_type": "display_data"
    }
   ],
   "source": [
    "#***check percentage quantitys\n",
    "labels=[\"White\",\"White non-Hispanic\",\"Black\",\"Asian and Pacific Islander\",\"Hispanic (of any race)\"]\n",
    "sizes=ElectionPastRace\n",
    "colors = ['#faf5ef','#f2e5d6','#91672C','#ffee99','#e0c29e']                         \n",
    "explode = (0.05,0.05,0.05,0.05,0.05)\n",
    "plt.pie(sizes, colors = colors, labels=labels, autopct='%1.1f%%', startangle=90, pctdistance=0.85, explode = explode)\n",
    "#draw circle\n",
    "centre_circle = plt.Circle((0,0),0.50,fc='white')\n",
    "fig = plt.gcf()\n",
    "fig.gca().add_artist(centre_circle)                         \n",
    "# Equal aspect ratio ensures that pie is drawn as a circle\n",
    "plt.axis(\"equal\")  \n",
    "plt.tight_layout()\n",
    "plt.title(\"Percentage of Participation by Race Year 2016\")\n",
    "#plt.savefig(\"./Images/Race2016.png\")\n",
    "plt.show()"
   ]
  },
  {
   "cell_type": "code",
   "execution_count": null,
   "metadata": {},
   "outputs": [],
   "source": []
  },
  {
   "cell_type": "code",
   "execution_count": null,
   "metadata": {},
   "outputs": [],
   "source": []
  },
  {
   "cell_type": "code",
   "execution_count": 37,
   "metadata": {},
   "outputs": [
    {
     "data": {
      "text/plain": [
       "2016    float64\n",
       "2012    float64\n",
       "2008    float64\n",
       "2004    float64\n",
       "2000    float64\n",
       "1996    float64\n",
       "1992    float64\n",
       "1988    float64\n",
       "1984    float64\n",
       "1980    float64\n",
       "1976    float64\n",
       "dtype: object"
      ]
     },
     "execution_count": 37,
     "metadata": {},
     "output_type": "execute_result"
    }
   ],
   "source": [
    "Race_part = Race_part.apply(pd.to_numeric)\n",
    "Race_part.dtypes"
   ]
  },
  {
   "cell_type": "code",
   "execution_count": 38,
   "metadata": {},
   "outputs": [
    {
     "data": {
      "text/html": [
       "<div>\n",
       "<style scoped>\n",
       "    .dataframe tbody tr th:only-of-type {\n",
       "        vertical-align: middle;\n",
       "    }\n",
       "\n",
       "    .dataframe tbody tr th {\n",
       "        vertical-align: top;\n",
       "    }\n",
       "\n",
       "    .dataframe thead th {\n",
       "        text-align: right;\n",
       "    }\n",
       "</style>\n",
       "<table border=\"1\" class=\"dataframe\">\n",
       "  <thead>\n",
       "    <tr style=\"text-align: right;\">\n",
       "      <th></th>\n",
       "      <th>White</th>\n",
       "      <th>White non-Hispanic</th>\n",
       "      <th>Black</th>\n",
       "      <th>Asian and Pacific Islander</th>\n",
       "      <th>Hispanic (of any race)</th>\n",
       "    </tr>\n",
       "  </thead>\n",
       "  <tbody>\n",
       "    <tr>\n",
       "      <th>2016</th>\n",
       "      <td>58.2</td>\n",
       "      <td>64.1</td>\n",
       "      <td>55.9</td>\n",
       "      <td>33.9</td>\n",
       "      <td>32.5</td>\n",
       "    </tr>\n",
       "    <tr>\n",
       "      <th>2012</th>\n",
       "      <td>57.6</td>\n",
       "      <td>63.0</td>\n",
       "      <td>62.0</td>\n",
       "      <td>31.3</td>\n",
       "      <td>31.8</td>\n",
       "    </tr>\n",
       "    <tr>\n",
       "      <th>2008</th>\n",
       "      <td>59.6</td>\n",
       "      <td>64.8</td>\n",
       "      <td>60.8</td>\n",
       "      <td>32.1</td>\n",
       "      <td>31.6</td>\n",
       "    </tr>\n",
       "    <tr>\n",
       "      <th>2004</th>\n",
       "      <td>60.3</td>\n",
       "      <td>65.8</td>\n",
       "      <td>56.3</td>\n",
       "      <td>29.8</td>\n",
       "      <td>28.0</td>\n",
       "    </tr>\n",
       "    <tr>\n",
       "      <th>2000</th>\n",
       "      <td>56.4</td>\n",
       "      <td>60.4</td>\n",
       "      <td>53.5</td>\n",
       "      <td>25.4</td>\n",
       "      <td>27.5</td>\n",
       "    </tr>\n",
       "    <tr>\n",
       "      <th>1996</th>\n",
       "      <td>56.0</td>\n",
       "      <td>59.6</td>\n",
       "      <td>50.6</td>\n",
       "      <td>25.7</td>\n",
       "      <td>26.7</td>\n",
       "    </tr>\n",
       "    <tr>\n",
       "      <th>1992</th>\n",
       "      <td>63.6</td>\n",
       "      <td>66.9</td>\n",
       "      <td>54.0</td>\n",
       "      <td>27.3</td>\n",
       "      <td>28.9</td>\n",
       "    </tr>\n",
       "    <tr>\n",
       "      <th>1988</th>\n",
       "      <td>59.1</td>\n",
       "      <td>61.8</td>\n",
       "      <td>51.5</td>\n",
       "      <td>0.0</td>\n",
       "      <td>28.8</td>\n",
       "    </tr>\n",
       "    <tr>\n",
       "      <th>1984</th>\n",
       "      <td>61.4</td>\n",
       "      <td>63.3</td>\n",
       "      <td>55.8</td>\n",
       "      <td>0.0</td>\n",
       "      <td>32.6</td>\n",
       "    </tr>\n",
       "    <tr>\n",
       "      <th>1980</th>\n",
       "      <td>60.9</td>\n",
       "      <td>62.8</td>\n",
       "      <td>50.5</td>\n",
       "      <td>0.0</td>\n",
       "      <td>29.9</td>\n",
       "    </tr>\n",
       "    <tr>\n",
       "      <th>1976</th>\n",
       "      <td>60.9</td>\n",
       "      <td>0.0</td>\n",
       "      <td>48.7</td>\n",
       "      <td>0.0</td>\n",
       "      <td>31.8</td>\n",
       "    </tr>\n",
       "  </tbody>\n",
       "</table>\n",
       "</div>"
      ],
      "text/plain": [
       "      White   White non-Hispanic  Black  Asian and Pacific Islander  \\\n",
       "2016    58.2                64.1   55.9                        33.9   \n",
       "2012    57.6                63.0   62.0                        31.3   \n",
       "2008    59.6                64.8   60.8                        32.1   \n",
       "2004    60.3                65.8   56.3                        29.8   \n",
       "2000    56.4                60.4   53.5                        25.4   \n",
       "1996    56.0                59.6   50.6                        25.7   \n",
       "1992    63.6                66.9   54.0                        27.3   \n",
       "1988    59.1                61.8   51.5                         0.0   \n",
       "1984    61.4                63.3   55.8                         0.0   \n",
       "1980    60.9                62.8   50.5                         0.0   \n",
       "1976    60.9                 0.0   48.7                         0.0   \n",
       "\n",
       "      Hispanic (of any race)  \n",
       "2016                    32.5  \n",
       "2012                    31.8  \n",
       "2008                    31.6  \n",
       "2004                    28.0  \n",
       "2000                    27.5  \n",
       "1996                    26.7  \n",
       "1992                    28.9  \n",
       "1988                    28.8  \n",
       "1984                    32.6  \n",
       "1980                    29.9  \n",
       "1976                    31.8  "
      ]
     },
     "execution_count": 38,
     "metadata": {},
     "output_type": "execute_result"
    }
   ],
   "source": [
    "Race_part = Race_part.transpose(copy = True)\n",
    "Race_part"
   ]
  },
  {
   "cell_type": "code",
   "execution_count": 39,
   "metadata": {},
   "outputs": [
    {
     "name": "stdout",
     "output_type": "stream",
     "text": [
      "Predicted growth in 2020 for White  is of 0.008912291633392133\n",
      "Predicted growth in 2020 for White non-Hispanic is of 0.004284613140757232\n",
      "Predicted growth in 2020 for Black is of -0.0034520612482230595\n",
      "Predicted growth in 2020 for Asian and Pacific Islander is of -0.02142009152080593\n",
      "Predicted growth in 2020 for Hispanic (of any race) is of -0.011671206272178658\n"
     ]
    }
   ],
   "source": [
    "iterations = (np.arange(0, len(Race_part.columns)))\n",
    "for i in iterations:\n",
    "    start_value = float(Race_part.iloc[0, i])\n",
    "    end_value = float(Race_part.iloc[6, i])\n",
    "    num_periods = len(Race_part)\n",
    "    print(f'Predicted growth in 2020 for {Race_part.columns[i]} is of {cagr(start_value, end_value, num_periods)}')"
   ]
  },
  {
   "cell_type": "markdown",
   "metadata": {},
   "source": [
    "### CAGR method extracted from :\n",
    "https://towardsdatascience.com/python-vs-excel-compound-annual-growth-rate-cagr-c8dbad46d3e0\n",
    "\n",
    "Made with Data from: \n",
    "US Census"
   ]
  },
  {
   "cell_type": "code",
   "execution_count": null,
   "metadata": {},
   "outputs": [],
   "source": []
  }
 ],
 "metadata": {
  "kernelspec": {
   "display_name": "Python 3",
   "language": "python",
   "name": "python3"
  },
  "language_info": {
   "codemirror_mode": {
    "name": "ipython",
    "version": 3
   },
   "file_extension": ".py",
   "mimetype": "text/x-python",
   "name": "python",
   "nbconvert_exporter": "python",
   "pygments_lexer": "ipython3",
   "version": "3.8.3"
  }
 },
 "nbformat": 4,
 "nbformat_minor": 4
}
